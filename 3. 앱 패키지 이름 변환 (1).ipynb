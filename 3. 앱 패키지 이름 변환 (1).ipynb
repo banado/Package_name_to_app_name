{
 "cells": [
  {
   "cell_type": "code",
   "execution_count": 8,
   "metadata": {},
   "outputs": [],
   "source": [
    "import play_scraper\n",
    "import pandas as pd\n",
    "df=pd.read_excel('C:/Users/IGAW/Desktop/a.xlsx')\n",
    "\n",
    "# print(play_scraper.details('com.android.chrome'))"
   ]
  },
  {
   "cell_type": "code",
   "execution_count": 9,
   "metadata": {},
   "outputs": [
    {
     "data": {
      "text/plain": [
       "'kr.co.appwhole.pinkelephant'"
      ]
     },
     "execution_count": 9,
     "metadata": {},
     "output_type": "execute_result"
    }
   ],
   "source": [
    "dataframe=dict()\n",
    "df['app'][0]\n"
   ]
  },
  {
   "cell_type": "code",
   "execution_count": 10,
   "metadata": {},
   "outputs": [
    {
     "name": "stdout",
     "output_type": "stream",
     "text": [
      "분홍코끼리\n",
      "언니구두 SISTERSHU\n",
      "슈마루 - SHOEMARU\n",
      "바닐라슈 (예쁘고 편한 슈즈전문몰)\n",
      "오렌즈\n",
      "ABC마트 신발쇼핑\n",
      "attrangs\n",
      "제이스타일 JSTYLE - 로맨틱 빅사이즈 여성의류패션\n",
      "Codibook - Fashion & Style to Buy\n",
      "None\n",
      "모니카룸\n",
      "메이블루 MAYBLUE\n",
      "사뿐 SAPPUN\n",
      "육육걸즈 - 자신감을 입자! 66사이즈 여자쇼핑몰\n",
      "클릭앤퍼니 CLICK&FUNNY\n",
      "캔마트\n",
      "이디야멤버스\n",
      "Nespresso\n",
      "피자헛\n",
      "이랜드잇 (ELAND EAT)\n",
      "스타벅스\n",
      "해피포인트\n",
      "할리스커피\n",
      "(공식) 버거킹 BURGER KING®KOREA\n",
      "모바일투썸\n",
      "McDonald's\n",
      "맘큐 – 유한킴벌리 공식 유아동쇼핑몰 momQ\n",
      "None\n",
      "매일아이\n",
      "놀이의 발견 - 아이를 위한 세상 모든 경험\n",
      "임신육아종합포털(아이사랑 모바일)\n",
      "질병관리본부 예방접종도우미\n",
      "Chai's Play - Aplikasi parenting & permainan anak\n",
      "제로투세븐\n",
      "Kids Note for day care centers\n",
      "BabyTime (Parenting, Track & Analysis)\n",
      "Mi Fit\n",
      "Noom: Health & Weight\n",
      "StudioMate - 회원용\n",
      "Female Fitness - Women Workout\n",
      "Plank Workout - 30 Days Plank Challenge Free\n",
      "Incheon Airport Guide\n",
      "Trabee Pocket : Travel Expense\n",
      "Klook: Travel Activities, Day Trips & Sightseeing\n",
      "트리플 - 해외여행 가이드\n",
      "WAUG - No.1 Tour & Activity App\n",
      "SaveTrip - Travel itinerary & Travel expenses\n",
      "KKday: Adventure Like a Local\n",
      "WishBeen - Global Travel Guide\n"
     ]
    }
   ],
   "source": [
    "\n",
    "for i in range(len(df['app'])):\n",
    "    try:\n",
    "        play_scraper.details(df['app'][i])['title']\n",
    "        dataframe[df['app'][i]]=play_scraper.details(df['app'][i])['title']\n",
    "    except:\n",
    "        dataframe[df['app'][i]]=\"None\"\n",
    "    print(dataframe[df['app'][i]])\n",
    "    "
   ]
  },
  {
   "cell_type": "code",
   "execution_count": 7,
   "metadata": {},
   "outputs": [],
   "source": [
    "ft=pd.DataFrame.from_dict(dataframe,orient='index',columns=['앱 타이틀'])\n",
    "writer = pd.ExcelWriter('C:/Users/IGAW/Documents/이동섭/1. 데이터 컨설팅 업무/11. 더랩바이블랑두 디메이저 지원/코어유저/앱명리스트.xlsx', engine='xlsxwriter')\n",
    "ft.to_excel(writer,sheet_name='유아')\n",
    "writer.save()"
   ]
  },
  {
   "cell_type": "code",
   "execution_count": null,
   "metadata": {},
   "outputs": [],
   "source": []
  }
 ],
 "metadata": {
  "kernelspec": {
   "display_name": "Python 3",
   "language": "python",
   "name": "python3"
  },
  "language_info": {
   "codemirror_mode": {
    "name": "ipython",
    "version": 3
   },
   "file_extension": ".py",
   "mimetype": "text/x-python",
   "name": "python",
   "nbconvert_exporter": "python",
   "pygments_lexer": "ipython3",
   "version": "3.7.4"
  }
 },
 "nbformat": 4,
 "nbformat_minor": 2
}
